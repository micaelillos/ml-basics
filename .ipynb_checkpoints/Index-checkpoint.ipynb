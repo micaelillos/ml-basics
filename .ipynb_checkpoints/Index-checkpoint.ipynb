{
 "cells": [
  {
   "cell_type": "markdown",
   "metadata": {},
   "source": [
    "<p align=center>\n",
    "    <h1> Intro to machine learning </h1>\n",
    "    <img src=\"https://champsoftblog.com/wp-content/uploads/2021/04/deploy-machine-learning-models-to-web.jpg\" width=400>\n",
    "  <br>\n",
    "  <br>\n",
    "  <img src=\"https://img.shields.io/badge/License-MIT-yellow.svg\">\n",
    "</p>\n",
    "\n",
    "> 👩🏽‍💻 Intro to machine learning booklet by Micael Illos\n",
    "\n",
    "## What is this ?\n",
    "\n",
    "This is a Intro to machine learning booklet by Micael Illos, this booklet is devised from many materials. Mainly from intro to machine learning by Eran Kaufman and offical documentation of the python libraries."
   ]
  },
  {
   "cell_type": "markdown",
   "metadata": {},
   "source": [
    "Table of contents\n",
    "=================\n",
    "\n",
    "<!--ts-->\n",
    "   * [gh-md-toc](#gh-md-toc)\n",
    "   * [Table of contents](#table-of-contents)\n",
    "   * [Installation](#installation)\n",
    "   * [Lessons](#usage)\n",
    "      * [Python principles](Introduction_Lesson_1.ipynb)\n",
    "      * [Local files](#local-files)\n",
    "      * [Remote files](#remote-files)\n",
    "      * [Multiple files](#multiple-files)\n",
    "      * [Combo](#combo)\n",
    "      * [Auto insert and update TOC](#auto-insert-and-update-toc)\n",
    "      * [GitHub token](#github-token)\n",
    "      * [TOC generation with Github Actions](#toc-generation-with-github-actions)\n",
    "   * [Tests](#tests)\n",
    "   * [Dependency](#dependency)\n",
    "   * [HomeWork](#docker)\n",
    "     * [Local](#local)\n",
    "     * [Public](#public)\n",
    "   * [Final Project](#finalproject)\n",
    "<!--te-->\n"
   ]
  }
 ],
 "metadata": {
  "kernelspec": {
   "display_name": "Python 3",
   "language": "python",
   "name": "python3"
  },
  "language_info": {
   "codemirror_mode": {
    "name": "ipython",
    "version": 3
   },
   "file_extension": ".py",
   "mimetype": "text/x-python",
   "name": "python",
   "nbconvert_exporter": "python",
   "pygments_lexer": "ipython3",
   "version": "3.8.5"
  }
 },
 "nbformat": 4,
 "nbformat_minor": 4
}
