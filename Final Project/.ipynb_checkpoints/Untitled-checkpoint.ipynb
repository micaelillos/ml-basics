{
 "cells": [
  {
   "cell_type": "markdown",
   "metadata": {},
   "source": [
    "<p align=\"center\"> \n",
    "  <img src=\"https://mir-s3-cdn-cf.behance.net/project_modules/max_1200/74df4373452141.5c09935c47fde.jpg\" alt=\"HAR Logo\" width=\"80px\" height=\"80px\"/>\n",
    "</p>\n",
    "<h2 align=\"center\"> Improve Boxing By Micael Illos </h1>\n",
    "<br/>\n",
    "<h4 align=\"center\"> A machine learning project that aims on helping boxers improve thier skills by analyzing how well they will do a against a certain opponent </h3>  \n",
    "\n",
    "<br/>\n",
    "<br/>\n",
    "\n",
    "<p align=\"center\"> \n",
    "  <img src=\"https://media1.tenor.com/images/e9d9d40eef4ab994670c08524e35bbdb/tenor.gif\" alt=\"Sample signal\" width=\"70%\" height=\"70%\">\n",
    "</p>\n",
    "\n",
    "\n"
   ]
  },
  {
   "cell_type": "markdown",
   "metadata": {},
   "source": [
    "## Table Of Contents\n",
    "<ul class=\"toc\"><ul class=\"toc\"><li><a href=\"#Get-Data\">I. Get Data<a class=\"anchor-link\" href=\"#Get-Data\">¶</a></a></li><ul class=\"toc\"><li><a href=\"#Preproccessing-the-Data\">I. Preproccessing the Data<a class=\"anchor-link\" href=\"#Preproccessing-the-Data\">¶</a></a></li><li><a href=\"#Data-Wrangaling\">II. Data Wrangaling<a class=\"anchor-link\" href=\"#Data-Wrangaling\">¶</a></a></li><li><a href=\"#Cleaning-Data\">III. Cleaning Data<a class=\"anchor-link\" href=\"#Cleaning-Data\">¶</a></a></li><li><a href=\"#Split-Data\">IV. Split Data<a class=\"anchor-link\" href=\"#Split-Data\">¶</a></a></li><li><a href=\"#Encode%2C-Impute-%26-Normalize\">V. Encode, Impute &amp; Normalize<a class=\"anchor-link\" href=\"#Encode,-Impute-&amp;-Normalize\">¶</a></a></li></ul><li><a href=\"#Machine-Learning-Models\">II. Machine Learning Models<a class=\"anchor-link\" href=\"#Machine-Learning-Models\">¶</a></a></li><ul class=\"toc\"><li><a href=\"#Decision-Tree\">I. Decision Tree<a class=\"anchor-link\" href=\"#Decision-Tree\">¶</a></a></li><li><a href=\"#Random-Forest\">II. Random Forest<a class=\"anchor-link\" href=\"#Random-Forest\">¶</a></a></li><li><a href=\"#K-Nearest-Neighbours\">III. K Nearest Neighbours<a class=\"anchor-link\" href=\"#K-Nearest-Neighbours\">¶</a></a></li><li><a href=\"#Support-Vector-Machine\">IV. Support Vector Machine<a class=\"anchor-link\" href=\"#Support-Vector-Machine\">¶</a></a></li><li><a href=\"#Best-Model\">V. Best Model<a class=\"anchor-link\" href=\"#Best-Model\">¶</a></a></li></ul><li><a href=\"#Appendix\">III. Appendix<a class=\"anchor-link\" href=\"#Appendix\">¶</a></a></li></ul></ul>"
   ]
  },
  {
   "cell_type": "markdown",
   "metadata": {},
   "source": [
    "### Abstract\n",
    "Taking into consideration the characteristics of machine learning techniques and the great diversity of applications that have been promoted by it, the aim of the present work is the implementation of machine learning techniques to generate a model that can predict the winner in a Boxing (Classical Boxing) based on the statistics of the fighters by employing the available database presented.\n",
    "<p align=\"center\"> \n",
    "  <img src=\"../Assets/ML_Steps_Overview.png\" width=400px />\n",
    "</p>"
   ]
  },
  {
   "cell_type": "code",
   "execution_count": 5,
   "metadata": {},
   "outputs": [],
   "source": [
    "# Here sit all the imports\n",
    "# Basic imports\n",
    "import matplotlib.pyplot as plt\n",
    "import numpy as np\n",
    "import pandas as pd\n",
    "import datetime\n",
    "\n",
    "# Data cleaning (normalization and such)\n",
    "from sklearn.impute import SimpleImputer\n",
    "from sklearn.model_selection import train_test_split\n",
    "from sklearn import preprocessing\n",
    "from sklearn.pipeline import make_pipeline\n",
    "import category_encoders as ce #https://contrib.scikit-learn.org/category_encoders/\n",
    "\n",
    "\n",
    "# Model imports\n",
    "from sklearn import tree\n",
    "from sklearn.tree import DecisionTreeClassifier\n",
    "from sklearn import svm\n",
    "from sklearn.neighbors import KNeighborsClassifier\n",
    "from sklearn.ensemble import RandomForestClassifier\n",
    "\n",
    "\n",
    "# Training model and accuracy stuff\n",
    "from sklearn.model_selection import cross_val_score\n",
    "from sklearn.metrics import classification_report\n",
    "from sklearn.model_selection import ShuffleSplit\n",
    "from sklearn.model_selection import learning_curve\n",
    "\n",
    "MODELS = {}\n",
    "TEST_SIZE = 0.3\n"
   ]
  },
  {
   "cell_type": "markdown",
   "metadata": {},
   "source": [
    "## Get Data\n",
    "Okay so we need to get some data of boxing fights. This is not easy hence since 1994\n",
    "after Foreman recapturing the heavyweight championship 20 years after the\n",
    "Rumble. Boxing results soon moved off the nation's sports pages,\n",
    "and reporters no longer covered the sport regularly. Basiclly boxing has been declining in popularity expecially compared to ufc. After checking kaggle for premade datasets or any other usefull datascience resource site none were found therefore a custom built dataset will be used.\n",
    "\n",
    "There is a useful website that contains data of pro boxing fights: https://boxrec.com "
   ]
  },
  {
   "cell_type": "markdown",
   "metadata": {},
   "source": [
    "### Preproccessing the Data"
   ]
  },
  {
   "cell_type": "markdown",
   "metadata": {},
   "source": [
    "After the scaping we are left with a csv that contains all the boxers profiles and another csv containing all their fights so the following function merges them accordingly."
   ]
  },
  {
   "cell_type": "code",
   "execution_count": 6,
   "metadata": {},
   "outputs": [],
   "source": [
    "def build_data():\n",
    "    boxers = pd.read_csv('./boxers.csv')\n",
    "    fights = pd.read_csv('./fights.csv')\n",
    "    final = pd.merge(fights, boxers, how='left', left_on='opponent_0_br_id', right_on='br_id')\n",
    "    final = pd.merge(final.drop_duplicates(), boxers, how='left', left_on='opponent_br_id', right_on='br_id')\n",
    "    return final"
   ]
  },
  {
   "cell_type": "markdown",
   "metadata": {},
   "source": [
    "Data wrangling—also called data cleaning, data remediation, or data munging—refers to a variety of processes designed to transform raw data into more readily used formats.\n",
    "So the following function wrangles the data."
   ]
  },
  {
   "cell_type": "markdown",
   "metadata": {},
   "source": [
    "In machine learning and statistics, feature selection, also known as variable selection, attribute selection or variable subset selection, is the process of selecting a subset of relevant features for use in model construction.\n",
    "So the following function will also remove unnecessary features and only leave the relevant features for the predictive model."
   ]
  },
  {
   "cell_type": "markdown",
   "metadata": {},
   "source": [
    "### Data Wrangaling"
   ]
  },
  {
   "cell_type": "code",
   "execution_count": 7,
   "metadata": {},
   "outputs": [],
   "source": [
    "def wrangle_data(df):\n",
    "    # Drop columns and map merged column names to new ones\n",
    "    # Feature Selection\n",
    "    # For example: alias is the boxers nickname which we will drop because its not relevant \n",
    "    # rename opponent 1 and 2 to left side of ring and right side\n",
    "  df.drop(columns=['alias_y',\n",
    "                  'alias_x',\n",
    "                  'birth name_x',\n",
    "                  'birth name_y',\n",
    "                  'birth place_y',\n",
    "                  'birth place_x',\n",
    "                  'bouts_x',\n",
    "                  'bouts_y',\n",
    "                  'br_id_y',\n",
    "                  'br_id_x',\n",
    "                  'career_y',\n",
    "                  'career_x',\n",
    "                  'draws_y',\n",
    "                  'draws_x',\n",
    "                  'losses_y',\n",
    "                  'losses_x',\n",
    "                  'manager/agent_y',\n",
    "                  'manager/agent_x',\n",
    "                  'name_y',\n",
    "                  'name_x',\n",
    "                  'promoter_y',\n",
    "                  'promoter_x',\n",
    "                  'residence_y',\n",
    "                  'residence_x',\n",
    "                  'rounds_y',\n",
    "                  'rounds_x',\n",
    "                  'sex_x',\n",
    "                  'status_y',\n",
    "                  'status_x',\n",
    "                  'titles held_y',\n",
    "                  'titles held_x',\n",
    "                  'wins_y',\n",
    "                  'wins_x'],\n",
    "            inplace=True)\n",
    "# instead of using opponent and opponent_0 we will map to left and right\n",
    "  mapping = {\n",
    "    'opponent': 'left',\n",
    "    'opponent_0': 'right',\n",
    "    'opponent_0_br_id': 'right_br_id',\n",
    "    'opponent_br_id': 'left_br_id',\n",
    "    'height': 'left_height',\n",
    "    'nationality': 'left_nationality',\n",
    "    'reach': 'left_reach',\n",
    "    'born_x': 'right_born',\n",
    "    'debut_x': 'right_debut',\n",
    "    'decision': 'right_decision',\n",
    "    'stance_x': 'right_stance',\n",
    "    'born_y': 'left_born',\n",
    "    'debut_y': 'left_debut',\n",
    "    'stance_y': 'left_stance',\n",
    "    'sex_y': 'sex',\n",
    "    'division_x': 'right_division',\n",
    "    'division_y': 'left_division',\n",
    "    'height_x': 'right_height',\n",
    "    'height_y': 'left_height',\n",
    "    'reach_x': 'right_reach',\n",
    "    'reach_y': 'left_reach',\n",
    "    'nationality_x': 'right_nationality',\n",
    "    'nationality_y': 'left_nationality',\n",
    "    'w-l-d': 'left_record_at_fight_time'\n",
    "    }\n",
    "  df.rename(columns=mapping, inplace=True)\n",
    "# Set right's age in the right format regarding to age and born columns\n",
    "  right_born = df['right_born'].str.split(pat=' / ', expand=True)\n",
    "  df['right_born'] = right_born[0]\n",
    "  df['right_age'] = right_born[1].str.split(expand=True)[1]\n",
    "\n",
    "# Set lefts's age in the right format regarding to age and born columns\n",
    "  left_born = df['left_born'].str.split(pat=' / ', expand=True)\n",
    "  df['left_born'] = left_born[0]\n",
    "  df['left_age'] = left_born[1].str.split(expand=True)[1]\n",
    "\n",
    "  df = df.apply(lambda x: x.str.strip() if x.dtype == \"object\" else x)\n",
    "\n",
    " # Set values to datetime\n",
    "  df['date'] = pd.to_datetime(df['date'], format='%Y-%m-%d', errors='coerce')\n",
    "  df['right_born'] = pd.to_datetime(df['right_born'], format='%Y-%m-%d', errors='coerce')\n",
    "  df['left_born'] = pd.to_datetime(df['left_born'], format='%Y-%m-%d', errors='coerce')\n",
    "  df['right_debut'] = pd.to_datetime(df['right_debut'], format='%Y-%m-%d', errors='coerce')\n",
    "  df['left_debut'] = pd.to_datetime(df['left_debut'], format='%Y-%m-%d', errors='coerce')\n",
    "\n",
    " # set height value correctly\n",
    "  df['right_height'] = df['right_height'].str.split(pat='/', expand=True)[1]\n",
    "  df['left_height'] = df['left_height'].str.split(pat='/', expand=True)[1]\n",
    "\n",
    "#set reach value correctly\n",
    "  df['right_reach'] = df['right_reach'].str.split(pat='/', expand=True)[1]\n",
    "  df['left_reach'] = df['left_reach'].str.split(pat='/', expand=True)[1]\n",
    "\n",
    "# set age at fight time and years active values\n",
    "  df['right_age_at_fight_time'] = (df['date'] - df['right_born'])\n",
    "  df['right_years_active'] = (df['date'] - df['right_debut'])\n",
    "  df['left_age_at_fight_time'] = (df['date'] - df['left_born'])\n",
    "  df['left_years_active'] = (df['date'] - df['left_debut'])\n",
    "\n",
    "# drop duplicates\n",
    "  df = df.drop_duplicates()\n",
    "\n",
    "#dropna\n",
    "  df = df.dropna(subset=['date'])\n",
    "\n",
    "  return df"
   ]
  },
  {
   "cell_type": "markdown",
   "metadata": {},
   "source": [
    "The functions sets the right record to left"
   ]
  },
  {
   "cell_type": "code",
   "execution_count": 8,
   "metadata": {},
   "outputs": [],
   "source": [
    "def right_rec_to_left(df):\n",
    "    common = np.intersect1d(df['right_br_id'], df['left_br_id'])\n",
    "    common = pd.Series(common)\n",
    "    df = df[df['right_br_id'].isin(common)]\n",
    "    for i in df['date']:\n",
    "        grouped = df.groupby('date').get_group(i)\n",
    "        df['right_record_at_fight_time'] = grouped['right_br_id'].apply(lambda x: grouped.loc[grouped[\"left_br_id\"] == x, \"left_record_at_fight_time\"].values)\n",
    "\n",
    "    return df"
   ]
  },
  {
   "cell_type": "markdown",
   "metadata": {},
   "source": [
    "Call the following functions to prepare data"
   ]
  },
  {
   "cell_type": "code",
   "execution_count": 9,
   "metadata": {},
   "outputs": [],
   "source": [
    "data = build_data()\n",
    "data = wrangle_data(data)\n",
    "#data = right_rec_to_left(data)"
   ]
  },
  {
   "cell_type": "markdown",
   "metadata": {},
   "source": [
    "Save the preproccesed data to csv"
   ]
  },
  {
   "cell_type": "code",
   "execution_count": 10,
   "metadata": {},
   "outputs": [],
   "source": [
    "data.to_csv(r'./dataset.csv', index=False, mode='w', na_rep='NaN')"
   ]
  },
  {
   "cell_type": "markdown",
   "metadata": {},
   "source": [
    "### Cleaning Data"
   ]
  },
  {
   "cell_type": "code",
   "execution_count": 11,
   "metadata": {},
   "outputs": [],
   "source": [
    "dataset = pd.read_csv('./dataset.csv')"
   ]
  },
  {
   "cell_type": "code",
   "execution_count": 12,
   "metadata": {},
   "outputs": [
    {
     "data": {
      "text/plain": [
       "(113161, 30)"
      ]
     },
     "execution_count": 12,
     "metadata": {},
     "output_type": "execute_result"
    }
   ],
   "source": [
    "dataset = dataset.drop(columns=['left_record_at_fight_time'])\n",
    "dataset.shape"
   ]
  },
  {
   "cell_type": "code",
   "execution_count": 13,
   "metadata": {},
   "outputs": [],
   "source": [
    "dataset = dataset[(dataset['right_decision'] == 'W') | (dataset['right_decision'] == 'L') | (dataset['right_decision'] == 'D')]"
   ]
  },
  {
   "cell_type": "markdown",
   "metadata": {},
   "source": [
    "### Split Data"
   ]
  },
  {
   "cell_type": "code",
   "execution_count": 14,
   "metadata": {},
   "outputs": [],
   "source": [
    "target = 'right_decision'\n",
    "X = dataset.drop([target], axis=1)\n",
    "y = dataset[target]"
   ]
  },
  {
   "cell_type": "markdown",
   "metadata": {},
   "source": [
    "Separate train and test sets"
   ]
  },
  {
   "cell_type": "code",
   "execution_count": 15,
   "metadata": {},
   "outputs": [],
   "source": [
    "X_train, X_test, y_train, y_test = train_test_split(X, y, test_size=TEST_SIZE, random_state=42)"
   ]
  },
  {
   "cell_type": "markdown",
   "metadata": {},
   "source": [
    "In this section we are encoding the target labels with the label encoder and we are also encoding categorial features, imputing missing values and normalizing (standardizing) features\n",
    "and after that we are left with the transformed X_train and X_test"
   ]
  },
  {
   "cell_type": "markdown",
   "metadata": {},
   "source": [
    "### Encode, Impute & Normalize"
   ]
  },
  {
   "cell_type": "code",
   "execution_count": 16,
   "metadata": {},
   "outputs": [
    {
     "name": "stderr",
     "output_type": "stream",
     "text": [
      "/opt/anaconda3/lib/python3.8/site-packages/category_encoders/utils.py:21: FutureWarning: is_categorical is deprecated and will be removed in a future version.  Use is_categorical_dtype instead\n",
      "  elif pd.api.types.is_categorical(cols):\n"
     ]
    }
   ],
   "source": [
    "le = preprocessing.LabelEncoder() # Encode target labels with value between 0 and n_classes-1.\n",
    "ny = le.fit_transform(y)\n",
    "y_train = le.fit_transform(y_train)\n",
    "y_test = le.transform(y_test)\n",
    "pipeline = make_pipeline( # Construct a Pipeline from the given estimators.\n",
    "    ce.OrdinalEncoder(), # Encode categorical features as an integer array. (auto) \n",
    "    SimpleImputer(), # Imputation transformer for completing missing values (default is mean)\n",
    "    preprocessing.StandardScaler() # Standardize features by removing the mean and scaling to unit variance\n",
    ")\n",
    "nX = pipeline.fit_transform(X)\n",
    "X_train_transformed = pipeline.fit_transform(X_train)\n",
    "X_test_transformed = pipeline.transform(X_test)\n"
   ]
  },
  {
   "cell_type": "markdown",
   "metadata": {},
   "source": [
    "Some functions for cross validation plotting and learning curve plotting"
   ]
  },
  {
   "cell_type": "code",
   "execution_count": 17,
   "metadata": {},
   "outputs": [],
   "source": [
    "# function for fitting trees of various depths on the training data using cross-validation\n",
    "def run_cross_validation_on_trees(X, y, tree_depths, cv=5, scoring='accuracy'):\n",
    "    cv_scores_list = []\n",
    "    cv_scores_std = []\n",
    "    cv_scores_mean = []\n",
    "    accuracy_scores = []\n",
    "    for depth in tree_depths:\n",
    "        tree_model = DecisionTreeClassifier(max_depth=depth)\n",
    "        cv_scores = cross_val_score(tree_model, X, y, cv=cv, scoring=scoring)\n",
    "        cv_scores_list.append(cv_scores)\n",
    "        cv_scores_mean.append(cv_scores.mean())\n",
    "        cv_scores_std.append(cv_scores.std())\n",
    "        accuracy_scores.append(tree_model.fit(X, y).score(X, y))\n",
    "    cv_scores_mean = np.array(cv_scores_mean)\n",
    "    cv_scores_std = np.array(cv_scores_std)\n",
    "    accuracy_scores = np.array(accuracy_scores)\n",
    "    return cv_scores_mean, cv_scores_std, accuracy_scores\n",
    "  \n",
    "    # function for fitting trees of various depths on the training data using cross-validation\n",
    "def run_cross_validation_on_random_forest(X, y, tree_depths, cv=5, scoring='accuracy'):\n",
    "    cv_scores_list = []\n",
    "    cv_scores_std = []\n",
    "    cv_scores_mean = []\n",
    "    accuracy_scores = []\n",
    "    for depth in tree_depths:\n",
    "        tree_model = RandomForestClassifier(max_depth=depth)\n",
    "        cv_scores = cross_val_score(tree_model, X, y, cv=cv, scoring=scoring)\n",
    "        cv_scores_list.append(cv_scores)\n",
    "        cv_scores_mean.append(cv_scores.mean())\n",
    "        cv_scores_std.append(cv_scores.std())\n",
    "        accuracy_scores.append(tree_model.fit(X, y).score(X, y))\n",
    "    cv_scores_mean = np.array(cv_scores_mean)\n",
    "    cv_scores_std = np.array(cv_scores_std)\n",
    "    accuracy_scores = np.array(accuracy_scores)\n",
    "    return cv_scores_mean, cv_scores_std, accuracy_scores\n",
    "\n",
    "    # function for fitting knn of various amount of neighbours\n",
    "    # on the training data using cross-validation\n",
    "def run_cross_validation_on_knn(X, y, amount_of_neighbours, cv=5, scoring='accuracy'):\n",
    "    cv_scores_list = []\n",
    "    cv_scores_std = []\n",
    "    cv_scores_mean = []\n",
    "    accuracy_scores = []\n",
    "    for aon in amount_of_neighbours:\n",
    "        knn_model = KNeighborsClassifier(n_neighbors=aon)\n",
    "        cv_scores = cross_val_score(knn_model, X, y, cv=cv, scoring=scoring)\n",
    "        cv_scores_list.append(cv_scores)\n",
    "        cv_scores_mean.append(cv_scores.mean())\n",
    "        cv_scores_std.append(cv_scores.std())\n",
    "        accuracy_scores.append(knn_model.fit(X, y).score(X, y))\n",
    "    cv_scores_mean = np.array(cv_scores_mean)\n",
    "    cv_scores_std = np.array(cv_scores_std)\n",
    "    accuracy_scores = np.array(accuracy_scores)\n",
    "    return cv_scores_mean, cv_scores_std, accuracy_scores\n",
    "# function for fitting svm of various c's on the training data using cross-validation\n",
    "def run_cross_validation_on_svm(svc_model, X, y, c_list, cv=5, scoring='accuracy'):\n",
    "    cv_scores_list = []\n",
    "    cv_scores_std = []\n",
    "    cv_scores_mean = []\n",
    "    accuracy_scores = []\n",
    "    for c in c_list:\n",
    "        svc_model.C = c\n",
    "        cv_scores = cross_val_score(svc_model, X, y, cv=cv, scoring=scoring)\n",
    "        cv_scores_list.append(cv_scores)\n",
    "        cv_scores_mean.append(cv_scores.mean())\n",
    "        cv_scores_std.append(cv_scores.std())\n",
    "        accuracy_scores.append(svc_model.fit(X, y).score(X, y))\n",
    "    cv_scores_mean = np.array(cv_scores_mean)\n",
    "    cv_scores_std = np.array(cv_scores_std)\n",
    "    accuracy_scores = np.array(accuracy_scores)\n",
    "    return cv_scores_mean, cv_scores_std, accuracy_scores\n",
    "  \n",
    "    \n",
    "# function for plotting cross-validation results\n",
    "def plot_cross_validation(depths, cv_scores_mean, cv_scores_std, accuracy_scores, title, x_label):\n",
    "    fig, ax = plt.subplots(1,1, figsize=(15,5))\n",
    "    ax.plot(depths, cv_scores_mean, '-o', label='mean cross-validation accuracy', alpha=0.9)\n",
    "    ax.fill_between(depths, cv_scores_mean-2*cv_scores_std, cv_scores_mean+2*cv_scores_std, alpha=0.2)\n",
    "    ylim = plt.ylim()\n",
    "    ax.plot(depths, accuracy_scores, '-*', label='train accuracy', alpha=0.9)\n",
    "    ax.set_title(title, fontsize=16)\n",
    "    ax.set_xlabel(x_label, fontsize=14)\n",
    "    ax.set_ylabel('Accuracy', fontsize=14)\n",
    "    ax.set_ylim(ylim)\n",
    "    ax.set_xticks(depths)\n",
    "    ax.legend()"
   ]
  },
  {
   "cell_type": "code",
   "execution_count": 18,
   "metadata": {},
   "outputs": [],
   "source": [
    "def plot_learning_curve(estimator, title, X, y, axes=None, ylim=None, cv=None, n_jobs=None, train_sizes=np.linspace(.1,1.0,5)):\n",
    "    if axes is None:\n",
    "        axes = plt.subplot()\n",
    "    axes.set_title(title)\n",
    "    if ylim is not None:\n",
    "        axes.set_ylim(*ylim)\n",
    "    axes.set_xlabel(\"Training examples\", size=16)\n",
    "    axes.set_ylabel(\"Score\", size=16)\n",
    "    train_sizes, train_scores, test_scores, fit_times, _ = learning_curve(estimator, X, y, cv=cv, n_jobs=n_jobs,train_sizes=train_sizes,return_times=True)\n",
    "    train_scores_mean = np.mean(train_scores, axis=1)\n",
    "    train_scores_std = np.std(train_scores, axis=1)\n",
    "    test_scores_mean = np.mean(test_scores, axis=1)\n",
    "    test_scores_std = np.std(test_scores, axis=1)\n",
    "    fit_times_mean = np.mean(fit_times, axis=1)\n",
    "    fit_times_std = np.std(fit_times, axis=1)\n",
    "    axes.grid()\n",
    "    axes.fill_between(train_sizes, train_scores_mean - train_scores_std,\n",
    "                         train_scores_mean + train_scores_std, alpha=0.1,\n",
    "                         color=\"r\")\n",
    "    axes.fill_between(train_sizes, test_scores_mean - test_scores_std,\n",
    "                         test_scores_mean + test_scores_std, alpha=0.1,\n",
    "                         color=\"g\")\n",
    "    axes.plot(train_sizes, train_scores_mean, 'o-', color=\"r\",\n",
    "                 label=\"Training score\")\n",
    "    axes.plot(train_sizes, test_scores_mean, 'o-', color=\"g\",\n",
    "                 label=\"Cross-validation score\")\n",
    "    axes.legend(loc=\"best\")\n",
    "\n",
    "    return plt"
   ]
  },
  {
   "cell_type": "markdown",
   "metadata": {},
   "source": [
    "## Machine Learning Models"
   ]
  },
  {
   "cell_type": "markdown",
   "metadata": {},
   "source": [
    "### Decision Tree"
   ]
  },
  {
   "cell_type": "code",
   "execution_count": 19,
   "metadata": {},
   "outputs": [
    {
     "ename": "NameError",
     "evalue": "name 'sm_tree_deps' is not defined",
     "output_type": "error",
     "traceback": [
      "\u001b[0;31m---------------------------------------------------------------------------\u001b[0m",
      "\u001b[0;31mNameError\u001b[0m                                 Traceback (most recent call last)",
      "\u001b[0;32m<ipython-input-19-23302b358432>\u001b[0m in \u001b[0;36m<module>\u001b[0;34m\u001b[0m\n\u001b[1;32m      1\u001b[0m \u001b[0;31m# fitting trees of depth 1 to 24\u001b[0m\u001b[0;34m\u001b[0m\u001b[0;34m\u001b[0m\u001b[0;34m\u001b[0m\u001b[0m\n\u001b[1;32m      2\u001b[0m \u001b[0msm_tree_depths\u001b[0m \u001b[0;34m=\u001b[0m \u001b[0mrange\u001b[0m\u001b[0;34m(\u001b[0m\u001b[0;36m1\u001b[0m\u001b[0;34m,\u001b[0m\u001b[0;36m25\u001b[0m\u001b[0;34m)\u001b[0m\u001b[0;34m\u001b[0m\u001b[0;34m\u001b[0m\u001b[0m\n\u001b[0;32m----> 3\u001b[0;31m \u001b[0msm_cv_scores_mean\u001b[0m\u001b[0;34m,\u001b[0m \u001b[0msm_cv_scores_std\u001b[0m\u001b[0;34m,\u001b[0m \u001b[0msm_accuracy_scores\u001b[0m \u001b[0;34m=\u001b[0m \u001b[0mrun_cross_validation_on_trees\u001b[0m\u001b[0;34m(\u001b[0m\u001b[0mX_train_transformed\u001b[0m\u001b[0;34m,\u001b[0m \u001b[0my_train\u001b[0m\u001b[0;34m,\u001b[0m \u001b[0msm_tree_deps\u001b[0m\u001b[0;34m)\u001b[0m\u001b[0;34m\u001b[0m\u001b[0;34m\u001b[0m\u001b[0m\n\u001b[0m",
      "\u001b[0;31mNameError\u001b[0m: name 'sm_tree_deps' is not defined"
     ]
    }
   ],
   "source": [
    "# fitting trees of depth 1 to 24\n",
    "sm_tree_depths = range(1,25)\n",
    "sm_cv_scores_mean, sm_cv_scores_std, sm_accuracy_scores = run_cross_validation_on_trees(X_train_transformed, y_train, sm_tree_depths)"
   ]
  },
  {
   "cell_type": "code",
   "execution_count": 62,
   "metadata": {},
   "outputs": [
    {
     "data": {
      "image/png": "[encoded data removed]",
      "text/plain": [
       "<Figure size 1080x360 with 1 Axes>"
      ]
     },
     "metadata": {
      "needs_background": "light"
     },
     "output_type": "display_data"
    }
   ],
   "source": [
    "# plotting accuracy\n",
    "plot_cross_validation(sm_tree_depths, sm_cv_scores_mean, sm_cv_scores_std, sm_accuracy_scores, \n",
    "                               'Accuracy per decision tree depth on training data', 'Tree depth')"
   ]
  },
  {
   "cell_type": "code",
   "execution_count": 39,
   "metadata": {},
   "outputs": [
    {
     "name": "stdout",
     "output_type": "stream",
     "text": [
      "The depth-12 tree achieves the best mean cross-validation accuracy 61.55397 +/- 0.43235% on training dataset\n"
     ]
    }
   ],
   "source": [
    "idx_max = sm_cv_scores_mean.argmax()\n",
    "sm_best_tree_depth = sm_tree_depths[idx_max]\n",
    "sm_best_tree_cv_score = sm_cv_scores_mean[idx_max]\n",
    "sm_best_tree_cv_score_std = sm_cv_scores_std[idx_max]\n",
    "print('The depth-{} tree achieves the best mean cross-validation accuracy {} +/- {}% on training dataset'.format(\n",
    "      sm_best_tree_depth, round(sm_best_tree_cv_score*100,5), round(sm_best_tree_cv_score_std*100, 5)))\n"
   ]
  },
  {
   "cell_type": "code",
   "execution_count": 55,
   "metadata": {},
   "outputs": [
    {
     "data": {
      "text/html": [
       "<div>\n",
       "<style scoped>\n",
       "    .dataframe tbody tr th:only-of-type {\n",
       "        vertical-align: middle;\n",
       "    }\n",
       "\n",
       "    .dataframe tbody tr th {\n",
       "        vertical-align: top;\n",
       "    }\n",
       "\n",
       "    .dataframe thead th {\n",
       "        text-align: right;\n",
       "    }\n",
       "</style>\n",
       "<table border=\"1\" class=\"dataframe\">\n",
       "  <thead>\n",
       "    <tr style=\"text-align: right;\">\n",
       "      <th></th>\n",
       "      <th>W</th>\n",
       "      <th>L</th>\n",
       "      <th>D</th>\n",
       "      <th>accuracy</th>\n",
       "      <th>macro avg</th>\n",
       "      <th>weighted avg</th>\n",
       "    </tr>\n",
       "  </thead>\n",
       "  <tbody>\n",
       "    <tr>\n",
       "      <th>precision</th>\n",
       "      <td>0.333929</td>\n",
       "      <td>0.572154</td>\n",
       "      <td>0.653120</td>\n",
       "      <td>0.62312</td>\n",
       "      <td>0.519734</td>\n",
       "      <td>0.607573</td>\n",
       "    </tr>\n",
       "    <tr>\n",
       "      <th>recall</th>\n",
       "      <td>0.128522</td>\n",
       "      <td>0.445154</td>\n",
       "      <td>0.784460</td>\n",
       "      <td>0.62312</td>\n",
       "      <td>0.452712</td>\n",
       "      <td>0.623120</td>\n",
       "    </tr>\n",
       "    <tr>\n",
       "      <th>f1-score</th>\n",
       "      <td>0.185608</td>\n",
       "      <td>0.500727</td>\n",
       "      <td>0.712791</td>\n",
       "      <td>0.62312</td>\n",
       "      <td>0.466375</td>\n",
       "      <td>0.606875</td>\n",
       "    </tr>\n",
       "    <tr>\n",
       "      <th>support</th>\n",
       "      <td>1455.000000</td>\n",
       "      <td>13155.000000</td>\n",
       "      <td>18971.000000</td>\n",
       "      <td>0.62312</td>\n",
       "      <td>33581.000000</td>\n",
       "      <td>33581.000000</td>\n",
       "    </tr>\n",
       "  </tbody>\n",
       "</table>\n",
       "</div>"
      ],
      "text/plain": [
       "                     W             L             D  accuracy     macro avg  \\\n",
       "precision     0.333929      0.572154      0.653120   0.62312      0.519734   \n",
       "recall        0.128522      0.445154      0.784460   0.62312      0.452712   \n",
       "f1-score      0.185608      0.500727      0.712791   0.62312      0.466375   \n",
       "support    1455.000000  13155.000000  18971.000000   0.62312  33581.000000   \n",
       "\n",
       "           weighted avg  \n",
       "precision      0.607573  \n",
       "recall         0.623120  \n",
       "f1-score       0.606875  \n",
       "support    33581.000000  "
      ]
     },
     "execution_count": 55,
     "metadata": {},
     "output_type": "execute_result"
    },
    {
     "data": {
      "image/png": "[encoded data removed]",
      "text/plain": [
       "<Figure size 432x288 with 1 Axes>"
      ]
     },
     "metadata": {
      "needs_background": "light"
     },
     "output_type": "display_data"
    }
   ],
   "source": [
    "clf = DecisionTreeClassifier(max_depth=sm_best_tree_depth)\n",
    "clf.fit(X_train_transformed,y_train)\n",
    "y_preds=clf.predict(X_test_transformed)\n",
    "report = pd.DataFrame(classification_report(y_test,y_preds,target_names=['W','L','D'],output_dict=True))\n",
    "MODELS['Tree'] = report['accuracy'][0]\n",
    "plot_cross_validation(clf,f'Decision Tree With max_depth of {sm_best_tree_depth}',nX,ny,cv=ShuffleSplit(test_size=TEST_SIZE))\n",
    "report"
   ]
  },
  {
   "cell_type": "markdown",
   "metadata": {},
   "source": [
    "### Random Forest"
   ]
  },
  {
   "cell_type": "code",
   "execution_count": 16,
   "metadata": {},
   "outputs": [],
   "source": [
    "# fitting trees of depth 3 to 14\n",
    "sm_tree_depths = range(3,15)\n",
    "sm_cv_scores_mean, sm_cv_scores_std, sm_accuracy_scores = run_cross_validation_on_random_forest(X_train_transformed, y_train, sm_tree_depths)"
   ]
  },
  {
   "cell_type": "code",
   "execution_count": 21,
   "metadata": {},
   "outputs": [
    {
     "data": {
      "image/png": "[encoded data removed]",
      "text/plain": [
       "<Figure size 1080x360 with 1 Axes>"
      ]
     },
     "metadata": {
      "needs_background": "light"
     },
     "output_type": "display_data"
    }
   ],
   "source": [
    "# plotting accuracy\n",
    "plot_cross_validation(sm_tree_depths, sm_cv_scores_mean, sm_cv_scores_std, sm_accuracy_scores, \n",
    "                               'Accuracy per decision Random Forest depth on training data', 'Random Forest depth')"
   ]
  },
  {
   "cell_type": "code",
   "execution_count": 19,
   "metadata": {},
   "outputs": [
    {
     "name": "stdout",
     "output_type": "stream",
     "text": [
      "The depth-14 Random Forest achieves the best mean cross-validation accuracy 67.29841 +/- 0.27165% on training dataset\n"
     ]
    }
   ],
   "source": [
    "idx_max = sm_cv_scores_mean.argmax()\n",
    "sm_best_forest_depth = sm_tree_depths[idx_max]\n",
    "sm_best_forest_cv_score = sm_cv_scores_mean[idx_max]\n",
    "sm_best_forest_cv_score_std = sm_cv_scores_std[idx_max]\n",
    "print('The depth-{} Random Forest achieves the best mean cross-validation accuracy {} +/- {}% on training dataset'.format(\n",
    "      sm_best_forest_depth, round(sm_best_forest_cv_score*100,5), round(sm_best_forest_cv_score_std*100, 5)))\n"
   ]
  },
  {
   "cell_type": "code",
   "execution_count": 20,
   "metadata": {},
   "outputs": [
    {
     "data": {
      "text/html": [
       "<div>\n",
       "<style scoped>\n",
       "    .dataframe tbody tr th:only-of-type {\n",
       "        vertical-align: middle;\n",
       "    }\n",
       "\n",
       "    .dataframe tbody tr th {\n",
       "        vertical-align: top;\n",
       "    }\n",
       "\n",
       "    .dataframe thead th {\n",
       "        text-align: right;\n",
       "    }\n",
       "</style>\n",
       "<table border=\"1\" class=\"dataframe\">\n",
       "  <thead>\n",
       "    <tr style=\"text-align: right;\">\n",
       "      <th></th>\n",
       "      <th>W</th>\n",
       "      <th>L</th>\n",
       "      <th>D</th>\n",
       "      <th>accuracy</th>\n",
       "      <th>macro avg</th>\n",
       "      <th>weighted avg</th>\n",
       "    </tr>\n",
       "  </thead>\n",
       "  <tbody>\n",
       "    <tr>\n",
       "      <th>precision</th>\n",
       "      <td>0.700000</td>\n",
       "      <td>0.685179</td>\n",
       "      <td>0.674216</td>\n",
       "      <td>0.677169</td>\n",
       "      <td>0.686465</td>\n",
       "      <td>0.679628</td>\n",
       "    </tr>\n",
       "    <tr>\n",
       "      <th>recall</th>\n",
       "      <td>0.004811</td>\n",
       "      <td>0.469859</td>\n",
       "      <td>0.872490</td>\n",
       "      <td>0.677169</td>\n",
       "      <td>0.449053</td>\n",
       "      <td>0.677169</td>\n",
       "    </tr>\n",
       "    <tr>\n",
       "      <th>f1-score</th>\n",
       "      <td>0.009556</td>\n",
       "      <td>0.557449</td>\n",
       "      <td>0.760644</td>\n",
       "      <td>0.677169</td>\n",
       "      <td>0.442550</td>\n",
       "      <td>0.648502</td>\n",
       "    </tr>\n",
       "    <tr>\n",
       "      <th>support</th>\n",
       "      <td>1455.000000</td>\n",
       "      <td>13155.000000</td>\n",
       "      <td>18971.000000</td>\n",
       "      <td>0.677169</td>\n",
       "      <td>33581.000000</td>\n",
       "      <td>33581.000000</td>\n",
       "    </tr>\n",
       "  </tbody>\n",
       "</table>\n",
       "</div>"
      ],
      "text/plain": [
       "                     W             L             D  accuracy     macro avg  \\\n",
       "precision     0.700000      0.685179      0.674216  0.677169      0.686465   \n",
       "recall        0.004811      0.469859      0.872490  0.677169      0.449053   \n",
       "f1-score      0.009556      0.557449      0.760644  0.677169      0.442550   \n",
       "support    1455.000000  13155.000000  18971.000000  0.677169  33581.000000   \n",
       "\n",
       "           weighted avg  \n",
       "precision      0.679628  \n",
       "recall         0.677169  \n",
       "f1-score       0.648502  \n",
       "support    33581.000000  "
      ]
     },
     "execution_count": 20,
     "metadata": {},
     "output_type": "execute_result"
    },
    {
     "data": {
      "image/png": "[encoded data removed]",
      "text/plain": [
       "<Figure size 432x288 with 1 Axes>"
      ]
     },
     "metadata": {
      "needs_background": "light"
     },
     "output_type": "display_data"
    }
   ],
   "source": [
    "clf = RandomForestClassifier(max_depth=sm_best_forest_depth)\n",
    "clf.fit(X_train_transformed,y_train)\n",
    "y_preds=clf.predict(X_test_transformed)\n",
    "report = pd.DataFrame(classification_report(y_test,y_preds,target_names=['W','L','D'],output_dict=True))\n",
    "MODELS['RandomForest'] = report['accuracy'][0]\n",
    "plot_learning_curve(clf,f\"Random Forest With max_depth of {sm_best_forest_depth}\",nX,ny,cv=ShuffleSplit(test_size=TEST_SIZE))\n",
    "report"
   ]
  },
  {
   "cell_type": "markdown",
   "metadata": {},
   "source": [
    "### K Nearest Neighbours"
   ]
  },
  {
   "cell_type": "code",
   "execution_count": 25,
   "metadata": {},
   "outputs": [],
   "source": [
    "# fitting neighbours of depth 3 to 7\n",
    "sm_amount_of_neighbours= range(3,8)\n",
    "sm_cv_scores_mean, sm_cv_scores_std, sm_accuracy_scores = run_cross_validation_on_knn(X_train_transformed, y_train, sm_amount_of_neighbours)"
   ]
  },
  {
   "cell_type": "code",
   "execution_count": 29,
   "metadata": {},
   "outputs": [
    {
     "data": {
      "image/png": "[encoded data removed]",
      "text/plain": [
       "<Figure size 1080x360 with 1 Axes>"
      ]
     },
     "metadata": {
      "needs_background": "light"
     },
     "output_type": "display_data"
    }
   ],
   "source": [
    "# plotting accuracy\n",
    "plot_cross_validation(sm_amount_of_neighbours, sm_cv_scores_mean, sm_cv_scores_std, sm_accuracy_scores, \n",
    "                               'Accuracy per decision Num of neighbours on training data', 'KNN Num of neighbours')"
   ]
  },
  {
   "cell_type": "code",
   "execution_count": 31,
   "metadata": {},
   "outputs": [
    {
     "name": "stdout",
     "output_type": "stream",
     "text": [
      "The NN-7 KNN achieves the best mean cross-validation accuracy 63.18631 +/- 0.40615% on training dataset\n"
     ]
    }
   ],
   "source": [
    "idx_max = sm_cv_scores_mean.argmax()\n",
    "sm_best_knn_depth = sm_tree_depths[idx_max]\n",
    "sm_best_knn_cv_score = sm_cv_scores_mean[idx_max]\n",
    "sm_best_knn_cv_score_std = sm_cv_scores_std[idx_max]\n",
    "print('The NN-{} KNN achieves the best mean cross-validation accuracy {} +/- {}% on training dataset'.format(\n",
    "      sm_best_knn_depth, round(sm_best_knn_cv_score*100,5), round(sm_best_knn_cv_score_std*100, 5)))\n"
   ]
  },
  {
   "cell_type": "code",
   "execution_count": null,
   "metadata": {},
   "outputs": [],
   "source": [
    "clf = KNeighborsClassifier(n_neighbors=sm_best_knn_depth)\n",
    "clf.fit(X_train_transformed,y_train)\n",
    "y_preds=clf.predict(X_test_transformed)\n",
    "report = pd.DataFrame(classification_report(y_test,y_preds,target_names=['W','L','D'],output_dict=True))\n",
    "MODELS['KNN'] = report['accuracy'][0]\n",
    "plot_learning_curve(clf,f\"KNN With {sm_best_knn_depth} amount of neighbours\",nX,ny,cv=ShuffleSplit(test_size=TEST_SIZE))\n",
    "report"
   ]
  },
  {
   "cell_type": "markdown",
   "metadata": {},
   "source": [
    "### Support Vector Machine"
   ]
  },
  {
   "cell_type": "code",
   "execution_count": null,
   "metadata": {},
   "outputs": [],
   "source": [
    "svm_model = svm.SVC(kernel='linear') # Linear Kernel\n",
    "svm_model.fit(X_train_transformed, y_train)\n",
    "C_s = np.logspace(-10, 0, 10) # List of possible C's\n",
    "sm_cv_scores_mean, sm_cv_scores_std, sm_accuracy_scores = run_cross_validation_on_svm(svm_model, X_train_transformed, y_train, C_s)"
   ]
  },
  {
   "cell_type": "code",
   "execution_count": 30,
   "metadata": {},
   "outputs": [
    {
     "ename": "NameError",
     "evalue": "name 'C_s' is not defined",
     "output_type": "error",
     "traceback": [
      "\u001b[0;31m---------------------------------------------------------------------------\u001b[0m",
      "\u001b[0;31mNameError\u001b[0m                                 Traceback (most recent call last)",
      "\u001b[0;32m<ipython-input-30-d9f1e2beab78>\u001b[0m in \u001b[0;36m<module>\u001b[0;34m\u001b[0m\n\u001b[1;32m      1\u001b[0m \u001b[0;31m# plotting accuracy\u001b[0m\u001b[0;34m\u001b[0m\u001b[0;34m\u001b[0m\u001b[0;34m\u001b[0m\u001b[0m\n\u001b[0;32m----> 2\u001b[0;31m plot_cross_validation_on_trees(C_s, sm_cv_scores_mean, sm_cv_scores_std, sm_accuracy_scores, \n\u001b[0m\u001b[1;32m      3\u001b[0m                                'Accuracy per decision tree depth on training data', 'Tree depth')\n",
      "\u001b[0;31mNameError\u001b[0m: name 'C_s' is not defined"
     ]
    }
   ],
   "source": [
    "# plotting accuracy\n",
    "plot_cross_validation(C_s, sm_cv_scores_mean, sm_cv_scores_std, sm_accuracy_scores, \n",
    "                               'Accuracy per decision tree depth on training data', 'Tree depth')"
   ]
  },
  {
   "cell_type": "code",
   "execution_count": null,
   "metadata": {},
   "outputs": [],
   "source": [
    "idx_max = sm_cv_scores_mean.argmax()\n",
    "sm_best_svm_depth = sm_tree_depths[idx_max]\n",
    "sm_best_svm_cv_score = sm_cv_scores_mean[idx_max]\n",
    "sm_best_svm_cv_score_std = sm_cv_scores_std[idx_max]\n",
    "print('The C-{} SVM achieves the best mean cross-validation accuracy {} +/- {}% on training dataset'.format(\n",
    "      sm_best_svm_depth, round(sm_best_svm_cv_score*100,5), round(sm_best_svm_cv_score_std*100, 5)))\n"
   ]
  },
  {
   "cell_type": "code",
   "execution_count": null,
   "metadata": {},
   "outputs": [],
   "source": [
    "clf = svm.SVC(kernel='linear') # Linear Kernel\n",
    "clf.C = sm_best_svm_depth\n",
    "clf.fit(X_train_transformed,y_train)\n",
    "y_preds=clf.predict(X_test_transformed)\n",
    "report = pd.DataFrame(classification_report(y_test,y_preds,target_names=['W','L','D'],output_dict=True))\n",
    "MODELS['SVM'] = report['accuracy'][0]\n",
    "plot_learning_curve(clf,f\"SVM With {sm_best_svm_depth} amount in C\",nX,ny,cv=ShuffleSplit(test_size=TEST_SIZE))\n",
    "report"
   ]
  },
  {
   "cell_type": "markdown",
   "metadata": {},
   "source": [
    "### Best Model"
   ]
  },
  {
   "cell_type": "code",
   "execution_count": null,
   "metadata": {},
   "outputs": [],
   "source": [
    " # need to look at MODELS and draw graph"
   ]
  },
  {
   "cell_type": "markdown",
   "metadata": {},
   "source": [
    "## Appendix"
   ]
  },
  {
   "cell_type": "markdown",
   "metadata": {},
   "source": [
    "Its possible to test the rest of the paramters with grid search / random search"
   ]
  },
  {
   "cell_type": "code",
   "execution_count": 9,
   "metadata": {},
   "outputs": [
    {
     "name": "stdout",
     "output_type": "stream",
     "text": [
      "Parameters currently in use:\n",
      "\n",
      "{'bootstrap': True,\n",
      " 'ccp_alpha': 0.0,\n",
      " 'class_weight': None,\n",
      " 'criterion': 'gini',\n",
      " 'max_depth': None,\n",
      " 'max_features': 'auto',\n",
      " 'max_leaf_nodes': None,\n",
      " 'max_samples': None,\n",
      " 'min_impurity_decrease': 0.0,\n",
      " 'min_impurity_split': None,\n",
      " 'min_samples_leaf': 1,\n",
      " 'min_samples_split': 2,\n",
      " 'min_weight_fraction_leaf': 0.0,\n",
      " 'n_estimators': 100,\n",
      " 'n_jobs': None,\n",
      " 'oob_score': False,\n",
      " 'random_state': 42,\n",
      " 'verbose': 0,\n",
      " 'warm_start': False}\n"
     ]
    }
   ],
   "source": [
    "from sklearn.ensemble import RandomForestRegressor\n",
    "rf = RandomForestClassifier(random_state = 42)\n",
    "from pprint import pprint\n",
    "# Look at parameters used by our current forest\n",
    "print('Parameters currently in use:\\n')\n",
    "pprint(rf.get_params())\n"
   ]
  },
  {
   "cell_type": "markdown",
   "metadata": {},
   "source": [
    "Random Hyperparameter Grid\n",
    "\n",
    "To use RandomizedSearchCV, we first need to create a parameter grid to sample from during fitting:\n"
   ]
  },
  {
   "cell_type": "code",
   "execution_count": 13,
   "metadata": {},
   "outputs": [
    {
     "name": "stdout",
     "output_type": "stream",
     "text": [
      "{'bootstrap': [True],\n",
      " 'max_depth': [2, 3, 4, 5, 6, 7, 8, 9, 10, 11, 13, None],\n",
      " 'max_features': ['auto'],\n",
      " 'min_samples_leaf': [4],\n",
      " 'min_samples_split': [2],\n",
      " 'n_estimators': [100, 101, 102, 103, 104, 105, 106, 107, 108, 110]}\n"
     ]
    }
   ],
   "source": [
    "from sklearn.model_selection import RandomizedSearchCV\n",
    "# Number of trees in random forest\n",
    "n_estimators = [int(x) for x in np.linspace(start = 100, stop = 110, num = 10)]\n",
    "# Number of features to consider at every split\n",
    "##max_features = ['auto', 'sqrt']\n",
    "max_features = ['auto']\n",
    "# Maximum number of levels in tree\n",
    "max_depth = [int(x) for x in np.linspace(2, 13, num = 11)]\n",
    "max_depth.append(None)\n",
    "# Minimum number of samples required to split a node\n",
    "#min_samples_split = [2, 5, 10]\n",
    "min_samples_split = [2]\n",
    "# Minimum number of samples required at each leaf node\n",
    "#min_samples_leaf = [1, 2, 4]\n",
    "min_samples_leaf = [4]\n",
    "# Method of selecting samples for training each tree\n",
    "#bootstrap = [True, False]\n",
    "bootstrap = [True]\n",
    "# Create the random grid\n",
    "random_grid = {'n_estimators': n_estimators,\n",
    "               'max_features': max_features,\n",
    "               'max_depth': max_depth,\n",
    "               'min_samples_split': min_samples_split,\n",
    "               'min_samples_leaf': min_samples_leaf,\n",
    "               'bootstrap': bootstrap}\n",
    "pprint(random_grid)\n"
   ]
  },
  {
   "cell_type": "code",
   "execution_count": 14,
   "metadata": {},
   "outputs": [
    {
     "name": "stdout",
     "output_type": "stream",
     "text": [
      "Fitting 3 folds for each of 100 candidates, totalling 300 fits\n"
     ]
    },
    {
     "name": "stderr",
     "output_type": "stream",
     "text": [
      "[Parallel(n_jobs=-1)]: Using backend LokyBackend with 8 concurrent workers.\n",
      "[Parallel(n_jobs=-1)]: Done  25 tasks      | elapsed:   39.0s\n",
      "[Parallel(n_jobs=-1)]: Done 146 tasks      | elapsed:  4.1min\n",
      "[Parallel(n_jobs=-1)]: Done 300 out of 300 | elapsed:  8.7min finished\n"
     ]
    },
    {
     "data": {
      "text/plain": [
       "{'n_estimators': 102,\n",
       " 'min_samples_split': 2,\n",
       " 'min_samples_leaf': 4,\n",
       " 'max_features': 'auto',\n",
       " 'max_depth': None,\n",
       " 'bootstrap': True}"
      ]
     },
     "execution_count": 14,
     "metadata": {},
     "output_type": "execute_result"
    }
   ],
   "source": [
    "# Use the random grid to search for best hyperparameters\n",
    "# First create the base model to tune\n",
    "rf = RandomForestClassifier()\n",
    "# Random search of parameters, using 3 fold cross validation, \n",
    "# search across 100 different combinations, and use all available cores\n",
    "rf_random = RandomizedSearchCV(estimator = rf, param_distributions = random_grid, n_iter = 100, cv = 3, verbose=2, random_state=42, n_jobs = -1)\n",
    "# Fit the random search model\n",
    "rf_random.fit(X_train_transformed, y_train)\n",
    "rf_random.best_params_"
   ]
  },
  {
   "cell_type": "markdown",
   "metadata": {},
   "source": [
    "Now we can also try Grid Search with Cross Validation\n",
    "\n",
    "GridSearchCV, a method that, instead of sampling randomly from a distribution, evaluates all combinations we define. To use Grid Search, we make another grid based on the best values provided by random search:\n"
   ]
  },
  {
   "cell_type": "code",
   "execution_count": null,
   "metadata": {},
   "outputs": [],
   "source": [
    "from sklearn.model_selection import GridSearchCV\n",
    "# Create the parameter grid based on the results of random search \n",
    "param_grid = {\n",
    "    'bootstrap': [True],\n",
    "    'max_depth': [80, 90, 100, 110],\n",
    "    'max_features': [2, 3],\n",
    "    'min_samples_leaf': [3, 4, 5],\n",
    "    'min_samples_split': [8, 10, 12],\n",
    "    'n_estimators': [100, 200, 300, 1000]\n",
    "}\n",
    "# Create a based model\n",
    "rf = RandomForestClassifier()\n",
    "# Instantiate the grid search model\n",
    "grid_search = GridSearchCV(estimator = rf, param_grid = param_grid, \n",
    "                          cv = 3, n_jobs = -1, verbose = 2)"
   ]
  },
  {
   "cell_type": "markdown",
   "metadata": {},
   "source": [
    "This will try out 1 * 4 * 2 * 3 * 3 * 4 = 288 combinations of settings. We can fit the model, display the best hyperparameters, and evaluate performance:"
   ]
  },
  {
   "cell_type": "code",
   "execution_count": null,
   "metadata": {},
   "outputs": [],
   "source": [
    "# Fit the grid search to the data\n",
    "grid_search.fit(train_features, train_labels)\n",
    "grid_search.best_params_"
   ]
  }
 ],
 "metadata": {
  "kernelspec": {
   "display_name": "Python 3",
   "language": "python",
   "name": "python3"
  },
  "language_info": {
   "codemirror_mode": {
    "name": "ipython",
    "version": 3
   },
   "file_extension": ".py",
   "mimetype": "text/x-python",
   "name": "python",
   "nbconvert_exporter": "python",
   "pygments_lexer": "ipython3",
   "version": "3.8.5"
  }
 },
 "nbformat": 4,
 "nbformat_minor": 4
}
